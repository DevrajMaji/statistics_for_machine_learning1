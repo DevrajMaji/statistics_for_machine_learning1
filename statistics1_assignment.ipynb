{
  "nbformat": 4,
  "nbformat_minor": 0,
  "metadata": {
    "colab": {
      "provenance": []
    },
    "kernelspec": {
      "name": "python3",
      "display_name": "Python 3"
    },
    "language_info": {
      "name": "python"
    }
  },
  "cells": [
    {
      "cell_type": "markdown",
      "source": [
        "Question 1: What is the difference between descriptive statistics and inferential statistics? Explain with examples.\n",
        "  ->  1.Descriptive Statistics-\n",
        "  Descriptive statistics is about summarizing and describing the main features of a dataset.\n",
        "\n",
        "It does not make predictions or generalizations beyond the given data.\n",
        "\n",
        "Common tools: Mean, Median, Mode, Standard Deviation, Charts, Tables.\n",
        "ex -\n",
        "Suppose we surveyed the exam scores of 50 students in your class.\n",
        "\n",
        "Mean score = 72\n",
        "\n",
        "Highest score = 95\n",
        "\n",
        "Lowest score = 40\n",
        "\n",
        "\n",
        "This is descriptive because we are just summarizing our class’s data, not drawing conclusions about all students everywhere.\n",
        "\n",
        "  2.Inferential Statistics\n",
        "\n",
        "Inferential statistics is about making predictions, conclusions, or generalizations about a larger population using sample data.\n",
        "\n",
        "There has a big data, and that is not possible to do the operations with the whole data, for that we take a small portion which is called sample and do the do the required operations, which is valid for whole population.\n",
        "\n",
        "It uses probability theory, hypothesis testing, regression, and confidence intervals.\n",
        "\n",
        "ex-\n",
        "we take a random sample of 50 students from our university and find their average exam score = 72.\n",
        "From this, we infer that the average exam score of all students in the university is around 72.\n",
        "\n",
        "Question 2: What is sampling in statistics? Explain the differences between random and stratified sampling.\n",
        "  ->Sampling is the process of selecting a subset (sample) from a larger group (population) so that we can analyze it and make conclusions about the whole population.\n",
        "\n",
        "It is used when studying the entire population is too large, costly, or time-consuming.\n",
        "\n",
        "ex:-\n",
        "If a company has 10,000 employees, and we want to know the average salary, we don’t ask everyone. Instead, we might take a sample of 500 employees and calculate the average, then use it to estimate the population average.\n",
        "\n",
        "Differences between Random and Stratified Sampling -\n",
        "\n",
        "In random sampling, every individual in the population has an equal chance of being selected.\n",
        "In stratified sampling, the population is first divided into groups, and then random samples are taken from each group.\n",
        "\n",
        "Random sampling is used when the population is fairly homogneous which means similer in nature.\n",
        "Stratified sampling is used when the population is heterogeneous and has different subgroups.\n",
        "\n",
        "In random sampling, selection is done directly from the whole population.\n",
        "In stratified sampling, selection is done separately within each subgroup.\n",
        "\n",
        "Random sampling may not always represent all subgroups accurately.\n",
        "Stratified sampling ensures that all important subgroups are represented.\n",
        "\n",
        "Random sampling is simpler and easier to conduct.\n",
        "Stratified sampling is more complex but gives more accurate results.\n",
        "\n",
        "\n",
        "\n",
        "Question 3: Define mean, median, and mode. Explain why these measures of central\n",
        "tendency are important.\n",
        "  ->Mean :-\n",
        "\n",
        "The mean is the sum of all values divided by the number of values.we can also call this average.\n",
        "\n",
        "Mean = sum of all elements in data/number all elements in data\n",
        "\t​\n",
        "\n",
        "for  example: for data = 5, 10, 15 → Mean = (5+10+15)/3 = 10\n",
        "\n",
        "Median :-\n",
        "\n",
        "The median is the middle value when the data is arranged in ascending or descending order.\n",
        "\n",
        "If the number of values is odd → take the middle one.\n",
        "\n",
        "If the number of values is even → take the average of the two middle values.\n",
        "\n",
        "for example: for data = 3, 8, 10, 15, 20 → Median = 10.\n",
        "for data = 3, 8, 10, 15 → Median = (8+10)/2 = 9.\n",
        "\n",
        "Mode :-\n",
        "\n",
        "The mode is the value that appears most frequently in the dataset.\n",
        "\n",
        "for Example: for data = 2, 4, 4, 6, 7, 7, 7, 9 → Mode = 7.\n",
        "\n",
        "Importance of Mean, Median, and Mode (Central Tendency Measures) :-\n",
        "\n",
        "They summarize a large dataset into a single representative value.\n",
        "\n",
        "Mean is useful for balanced data without extreme values.\n",
        "\n",
        "Median is useful when data has outliers or skewness.\n",
        "\n",
        "Mode is useful for categorical data.\n",
        "\n",
        "Together, they help in understanding the distribution and making decisions in business, economics, education, and research.\n",
        "\n",
        "\n",
        "\n",
        "Question 4: Explain skewness and kurtosis. What does a positive skew imply about the data?\n",
        "\n",
        "->Skewness\n",
        "\n",
        "Skewness measures the asymmetry of a data distribution.\n",
        "\n",
        "If data is perfectly symmetric (like a normal distribution), skewness = 0.\n",
        "\n",
        "Types of skewness:\n",
        "\n",
        "Positive Skew (right Skew):\n",
        "\n",
        "Tail is longer on the right side.\n",
        "\n",
        "Mean > Median > Mode.\n",
        "\n",
        "Example: Income distribution (a few very rich people raise the average).\n",
        "\n",
        "Negative Skew (left Skew):\n",
        "\n",
        "Tail is longer on the left side.\n",
        "\n",
        "Mean < Median < Mode.\n",
        "\n",
        "Example: Age at retirement (most people retire around the same age, but a few retire much earlier).\n",
        "\n",
        "Kurtosis\n",
        "\n",
        "Kurtosis measures the “peakedness” or tailedness of a distribution.\n",
        "\n",
        "It tells us whether data has heavy tails or light tails compared to a normal distribution.\n",
        "\n",
        "What does a Positive Skew imply?\n",
        "\n",
        "The data has a long tail on the right side.\n",
        "\n",
        "Most values are concentrated on the lower side, but a few very high values pull the mean upward.\n",
        "\n",
        "Example: Incomes, house prices, or hospital stay durations.\n"
      ],
      "metadata": {
        "id": "RkLDBYOKTC26"
      }
    },
    {
      "cell_type": "code",
      "source": [
        "\"\"\"Question 5:  Implement a Python program to compute the mean, median, and mode of\n",
        "a given list of numbers.\n",
        "numbers = [12, 15, 12, 18, 19, 12, 20, 22, 19, 19, 24, 24, 24, 26, 28]\n",
        "\"\"\"\n",
        "import statistics as st\n",
        "numbers = [12, 15, 12, 18, 19, 12, 20, 22, 19, 19, 24, 24, 24, 26, 28]\n",
        "print(\"mean : \", st.mean(numbers))\n",
        "print(\"median : \", st.median(numbers))\n",
        "print(\"mode : \", st.mode(numbers))"
      ],
      "metadata": {
        "colab": {
          "base_uri": "https://localhost:8080/"
        },
        "id": "G0dcZkpEvBvy",
        "outputId": "ecfb8274-b98b-4f86-db56-8352df06292d"
      },
      "execution_count": 36,
      "outputs": [
        {
          "output_type": "stream",
          "name": "stdout",
          "text": [
            "mean :  19.6\n",
            "median :  19\n",
            "mode :  12\n"
          ]
        }
      ]
    },
    {
      "cell_type": "code",
      "source": [
        "\"\"\"Question 6: Compute the covariance and correlation coefficient between the following\n",
        "two datasets provided as lists in Python:\n",
        "list_x = [10, 20, 30, 40, 50]\n",
        "list_y = [15, 25, 35, 45, 60]\n",
        "\"\"\"\n",
        "import numpy as np\n",
        "list_x = [10, 20, 30, 40, 50]\n",
        "list_y = [15, 25, 35, 45, 60]\n",
        "\n",
        "print(\"covarience : \",np.cov(list_x, list_y,bias = True)[0][1])\n",
        "print(\"correlation coeficient : \",np.corrcoef(list_x, list_y)[0][1])\n"
      ],
      "metadata": {
        "colab": {
          "base_uri": "https://localhost:8080/"
        },
        "id": "dCsyfOTgvTr-",
        "outputId": "3f2350e1-3db5-469a-d08a-f031f8497846"
      },
      "execution_count": 12,
      "outputs": [
        {
          "output_type": "stream",
          "name": "stdout",
          "text": [
            "covarience :  220.0\n",
            "correlation coeficient :  0.995893206467704\n"
          ]
        }
      ]
    },
    {
      "cell_type": "code",
      "source": [
        "\"\"\"Question 7: Write a Python script to draw a boxplot for the following numeric list and\n",
        "identify its outliers. Explain the result:\n",
        "data = [12, 14, 14, 15, 18, 19, 19, 21, 22, 22, 23, 23, 24, 26, 29, 35]\n",
        "\"\"\"\n",
        "import seaborn as sns\n",
        "\n",
        "data = [12, 14, 14, 15, 18, 19, 19, 21, 22, 22, 23, 23, 24, 26, 29, 35]\n",
        "sns.boxplot(data)\n",
        "q1, q2, q3 = st.quantiles(data, n=4)\n",
        "iqr = q3 - q1\n",
        "lower_fence = q1 - 1.5 * iqr\n",
        "upper_fence = q3 + 1.5 * iqr\n",
        "outliers = [x for x in data if x < lower_fence or x > upper_fence]\n",
        "print(\"Lower Fence:\", lower_fence, \"Upper Fence:\", upper_fence)\n",
        "print(\"Outliers:\", outliers)\n"
      ],
      "metadata": {
        "colab": {
          "base_uri": "https://localhost:8080/",
          "height": 446
        },
        "id": "EBrAcKcFvkwh",
        "outputId": "d17a8c83-0613-4672-efbe-07f5d624e0cc"
      },
      "execution_count": 24,
      "outputs": [
        {
          "output_type": "stream",
          "name": "stdout",
          "text": [
            "Lower Fence: 3.75 Upper Fence: 35.75\n",
            "Outliers: []\n"
          ]
        },
        {
          "output_type": "display_data",
          "data": {
            "text/plain": [
              "<Figure size 640x480 with 1 Axes>"
            ],
            "image/png": "[encoded data removed]"
          },
          "metadata": {}
        }
      ]
    },
    {
      "cell_type": "code",
      "source": [
        "\"\"\"\n",
        "Question 8: You are working as a data analyst in an e-commerce company. The\n",
        "marketing team wants to know if there is a relationship between advertising spend and\n",
        "daily sales.\n",
        "● Explain how you would use covariance and correlation to explore this\n",
        "relationship.\n",
        "● Write Python code to compute the correlation between the two lists:\n",
        "advertising_spend = [200, 250, 300, 400, 500]\n",
        "daily_sales = [2200, 2450, 2750, 3200, 4000]\n",
        "\"\"\"\n",
        "\"\"\"\n",
        "Covariance\n",
        "Measures how two variables change together.\n",
        "If positive, when advertising spend increases, sales also tend to increase.\n",
        "If negative, when advertising spend increases, sales decrease.\n",
        "Problem: It depends on scale, so the value is not standardized.\n",
        "Correlation\n",
        "Standardized form of covariance (ranges from –1 to +1).\n",
        "+1 → perfect positive relationship\n",
        "–1 → perfect negative relationship\n",
        "0 → no linear relationship\n",
        "More useful than covariance because it shows the strength of the relationship independent of scale.\"\"\"\n",
        "\n",
        "advertising_spend = [200, 250, 300, 400, 500]\n",
        "daily_sales = [2200, 2450, 2750, 3200, 4000]\n",
        "print(\"covariance : \",np.cov(advertising_spend,daily_sales,bias = True)[0][1]) ## we can see that the value is positive so that is a linear relationship means adertising_spend increses then daily_sales increses\n",
        "print(\"correlation : \",np.corrcoef(advertising_spend,daily_sales)[0][1]) ## correlation coefficient is 0.99 means prefect positive relationship"
      ],
      "metadata": {
        "colab": {
          "base_uri": "https://localhost:8080/"
        },
        "id": "jEZHL_TPyaS6",
        "outputId": "5d6817a3-539a-4183-e14e-24e31051fd3c"
      },
      "execution_count": 31,
      "outputs": [
        {
          "output_type": "stream",
          "name": "stdout",
          "text": [
            "covariance :  67900.0\n",
            "correlation :  0.9935824101653329\n"
          ]
        }
      ]
    },
    {
      "cell_type": "code",
      "source": [
        "\"\"\"\n",
        "Question 9: Your team has collected customer satisfaction survey data on a scale of\n",
        "1-10 and wants to understand its distribution before launching a new product.\n",
        "● Explain which summary statistics and visualizations (e.g. mean, standard\n",
        "deviation, histogram) you’d use.\n",
        "● Write Python code to create a histogram using Matplotlib for the survey data:\n",
        "survey_scores = [7, 8, 5, 9, 6, 7, 8, 9, 10, 4, 7, 6, 9, 8, 7]\n",
        "\n",
        "\"\"\"\n",
        "## -> Here i have to use the histogram cause it can shows us the most frequent rating give by the customer, here we use the summary statistics mode.\n",
        "import matplotlib.pyplot as plt\n",
        "survey_scores = [7, 8, 5, 9, 6, 7, 8, 9, 10, 4, 7, 6, 9, 8, 7]\n",
        "plt.hist(survey_scores)\n",
        "plt.xlabel('Survey Scores')\n",
        "plt.ylabel('Frequency')\n",
        "plt.show()"
      ],
      "metadata": {
        "colab": {
          "base_uri": "https://localhost:8080/",
          "height": 449
        },
        "id": "8uiiiUtW10Ai",
        "outputId": "bd7db14a-ff39-4289-cef2-22c719043b74"
      },
      "execution_count": 35,
      "outputs": [
        {
          "output_type": "display_data",
          "data": {
            "text/plain": [
              "<Figure size 640x480 with 1 Axes>"
            ],
            "image/png": "[encoded data removed]"
          },
          "metadata": {}
        }
      ]
    },
    {
      "cell_type": "code",
      "source": [],
      "metadata": {
        "id": "MVKhZnl6362v"
      },
      "execution_count": null,
      "outputs": []
    }
  ]
}