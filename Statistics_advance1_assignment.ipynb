{
  "nbformat": 4,
  "nbformat_minor": 0,
  "metadata": {
    "colab": {
      "provenance": []
    },
    "kernelspec": {
      "name": "python3",
      "display_name": "Python 3"
    },
    "language_info": {
      "name": "python"
    }
  },
  "cells": [
    {
      "cell_type": "markdown",
      "source": [
        "Question 1: What is a random variable in probability theory?\n",
        "  ->A random variable in probability theory is a variable whose value is determined by the outcome of a random experiment. The variables store anything from the experiment.\n",
        "  \n",
        "  There is two types of random variable, one is discrete random variable and another one is continuous random variable.\n",
        "\n",
        "  If it takes countable values, it is called a discrete random variable. For example x = 1,2,3,4,.....\n",
        "\n",
        "If it takes values from a continuous range, it is called a continuous random variable.For example height,weight etc.\n",
        "\n",
        "ex:-\n",
        "\n",
        "Toss a coin: define random variable X.\n",
        "if head x = 1\n",
        "\n",
        "if tail x = 0\n",
        "\n",
        "here x is a random variable mapping outcomes to numbers\n",
        "\n",
        "Question 2: What are the types of random variables?\n",
        "  ->There is two types of random variable, one is discrete random variable and another one is continuous random variable.\n",
        "\n",
        "  If it takes countable values, it is called a discrete random variable. For example x = 1,2,3,4,.....\n",
        "\n",
        "If it takes values from a continuous range, it is called a continuous random variable.For example height,weight etc.\n",
        "\n",
        "ex:-\n",
        "\n",
        "Toss a coin: define random variable X.\n",
        "if head x = 1\n",
        "\n",
        "if tail x = 0\n",
        "\n",
        "here x is a discrete random variable.\n",
        "\n",
        "and if x  = 167.5 cm, that is heught so x is a continues random variable.\n",
        "\n",
        "Question 3: Explain the difference between discrete and continuous distributions.\n",
        "  ->1.Discrete distribution has separate, countable outcomes, while continuous distribution has infinite outcomes over a range.\n",
        "\n",
        "  2.Discrete uses PMF (Probability Mass Function), whereas continuous uses PDF (Probability Density Function).\n",
        "\n",
        "  3.Discrete distribution can give non-zero probability for a single value; continuous distribution always gives zero probability for a single value.\n",
        "\n",
        "  4.example:Discrete → rolling a die.Continuous → measuring height.\n",
        "\n",
        "Question 4: What is a binomial distribution, and how is it used in probability?\n",
        "  ->The binomial distribution is a discrete probability distribution that describes the number of successes in a fixed number of independent trials, where each trial has only two possible outcomes: success (with probability p) or failure (with probability 𝑞=1−𝑝).\n",
        "\n",
        "  Examples: Tossing a coin multiple times, predicting defective items in a batch, modeling pass/fail in exams, etc.\n",
        "\n",
        "Question 5: What is the standard normal distribution, and why is it important?\n",
        "  ->The standard normal distrbution is a special case of the normal distribution with mean (μ) = 0 and standard deviation (σ) = 1.\n",
        "\n",
        " importance:\n",
        "\n",
        "It allows us to compare different normal distributions by conveting values into z-scores.\n",
        "\n",
        "Used in hypothesis testing,confidence intervals,and many statistical methods.\n",
        "\n",
        "Simplifies probability calculations since standard normal tables are widely available.\n",
        "\n",
        "Question 6: What is the Central Limit Theorem (CLT), and why is it critical in statistics?\n",
        "  ->When we take a large number of random samples from any population (with a finite mean and variance) and calculate their sample means, the distribution of these sample means tends to follow a normal distribution, regardless of the original population’s distribution.\n",
        "\n",
        "  CLT critical in statistics :-\n",
        "  It allows us to use the normal distribution as an approximation, even if the population distribution is unknown.\n",
        "\n",
        "  Many statistical tests and confidence interval formulas rely on the CTL.\n",
        "\n",
        "  It explains why normal distribution is so widely applicable in statistics and data science.\n",
        "\n",
        "Question 7: What is the significance of confidence intervals in statistical analysis?\n",
        "  ->A confidence interval gives a range of values within which the true population parameter  is likely to lie, with a certain level of confidence (ex- 95%). Hrere the true population parameter means mean,proportion etc.\n",
        "\n",
        "Significance:-\n",
        "\n",
        "1.Shows how precise our sample estimate is.\n",
        "\n",
        "2.Provides a likely range for the true parameter, not just a single estimate.\n",
        "\n",
        "3.Helps in hypothesis testing and making  conclusions from data.\n",
        "\n",
        "4.Widely used in surveys, experiments, and predictive modeling.\n",
        "\n",
        "Question 8: What is the concept of expected value in a probability distribution?\n",
        "  ->The expected value of a probability distribution is the long-run average outcome we expect if an experiment is repeated many times. It is calculated as the weighted average of all possible values, where the weights are their probabilities.\n",
        "\n",
        "E[X]=∑(x⋅P(x))(for discrete variables)\n",
        "E[X]=∫xf(x)dx(for continuous variables)\n",
        "\n",
        "Significance\n",
        "\n",
        "Represents the theoretical mean of the distribution.\n",
        "\n",
        "Helps in prediction and decision-making under uncertainty.\n",
        "\n",
        "Used in fields like economics, finance, data science, and risk analysis."
      ],
      "metadata": {
        "id": "X0Xn8c-BDul4"
      }
    },
    {
      "cell_type": "code",
      "source": [
        "\"\"\"Question 9: Write a Python program to generate 1000 random numbers from a normal\n",
        "distribution with mean = 50 and standard deviation = 5. Compute its mean and standard\n",
        "deviation using NumPy, and draw a histogram to visualize the distribution.\n",
        "\"\"\"\n",
        "import numpy as np\n",
        "import matplotlib.pyplot as plt\n",
        "data = np.random.normal(loc=50, scale=5, size=1000)\n",
        "mean_value = np.mean(data)\n",
        "std_value = np.std(data)\n",
        "print(\"mean:\", mean_value)\n",
        "print(\"standard deviation:\", std_value)\n",
        "plt.hist(data, bins=30, edgecolor='black', alpha=0.7)\n",
        "plt.title(\"normal distribution (mean=50, std=5)\")\n",
        "plt.xlabel(\"Value\")\n",
        "plt.ylabel(\"Frequency\")\n",
        "plt.show()"
      ],
      "metadata": {
        "id": "Lf-f3yqQNuGQ",
        "colab": {
          "base_uri": "https://localhost:8080/",
          "height": 507
        },
        "outputId": "13fc591e-57e8-407c-cb07-14f3bed828b0"
      },
      "execution_count": 3,
      "outputs": [
        {
          "output_type": "stream",
          "name": "stdout",
          "text": [
            "mean: 49.946381700481325\n",
            "standard deviation: 5.099063179569883\n"
          ]
        },
        {
          "output_type": "display_data",
          "data": {
            "text/plain": [
              "<Figure size 640x480 with 1 Axes>"
            ],
            "image/png": "[encoded data removed]"
          },
          "metadata": {}
        }
      ]
    },
    {
      "cell_type": "code",
      "source": [
        "\"\"\"Question 10: You are working as a data analyst for a retail company. The company has\n",
        "collected daily sales data for 2 years and wants you to identify the overall sales trend.\n",
        "daily_sales = [220, 245, 210, 265, 230, 250, 260, 275, 240, 255,\n",
        " 235, 260, 245, 250, 225, 270, 265, 255, 250, 260]\n",
        "● Explain how you would apply the Central Limit Theorem to estimate the average sales\n",
        "with a 95% confidence interval.\n",
        "● Write the Python code to compute the mean sales and its confidence interval\"\"\"\n",
        "\n",
        "\"\"\"The company has daily sales data. To know the average sales, we use the sample mean.\n",
        "\n",
        "According to the Central Limit Theorem (CLT), if we take repeated samples, their means will follow a normal distribution, even if sales data is not perfectly normal.\n",
        "\n",
        "This allows us to construct a 95% confidence interval (CI) to estimate the true average sales.\n",
        "\t​\n",
        "\"\"\"\n",
        "\n",
        "import numpy as np\n",
        "import scipy.stats as stats\n",
        "daily_sales = [220, 245, 210, 265, 230, 250, 260, 275, 240, 255,\n",
        "               235, 260, 245, 250, 225, 270, 265, 255, 250, 260]\n",
        "data = np.array(daily_sales)\n",
        "mean_sales = np.mean(data)\n",
        "std_sales = np.std(data, ddof=1)\n",
        "n = len(data)\n",
        "confidence = 0.95\n",
        "alpha = 1 - confidence\n",
        "z_value = stats.norm.ppf(1 - alpha/2)\n",
        "margin_of_error = z_value * (std_sales / np.sqrt(n))\n",
        "ci_lower = mean_sales - margin_of_error\n",
        "ci_upper = mean_sales + margin_of_error\n",
        "print(\"Mean Sales:\", mean_sales)\n",
        "print(\"95% Confidence Interval: (\", ci_lower, \",\", ci_upper, \")\")\n"
      ],
      "metadata": {
        "colab": {
          "base_uri": "https://localhost:8080/"
        },
        "id": "4NjZgeY4JWvI",
        "outputId": "4a9f3c93-9ff4-41c3-e4e0-c343089be374"
      },
      "execution_count": 4,
      "outputs": [
        {
          "output_type": "stream",
          "name": "stdout",
          "text": [
            "Mean Sales: 248.25\n",
            "95% Confidence Interval: ( 240.68326838343515 , 255.81673161656485 )\n"
          ]
        }
      ]
    },
    {
      "cell_type": "code",
      "source": [],
      "metadata": {
        "id": "nKkKUmp9Ke0y"
      },
      "execution_count": null,
      "outputs": []
    }
  ]
}